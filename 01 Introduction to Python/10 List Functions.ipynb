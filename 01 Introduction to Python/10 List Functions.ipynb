{
 "cells": [
  {
   "cell_type": "markdown",
   "metadata": {},
   "source": [
    "# List Functions"
   ]
  },
  {
   "cell_type": "code",
   "execution_count": 1,
   "metadata": {},
   "outputs": [
    {
     "name": "stdout",
     "output_type": "stream",
     "text": [
      "['Oscar', 'Kevin', 'Angela']\n",
      "0\n",
      "1\n",
      "['Angela', 'Kevin', 'Oscar']\n",
      "[]\n"
     ]
    }
   ],
   "source": [
    "\n",
    "friends = []\n",
    "friends.append(\"Oscar\")\n",
    "friends.append(\"Angela\")\n",
    "friends.insert(1, \"Kevin\")\n",
    "\n",
    "# friends.remove(\"Kevin\")\n",
    "print( friends )\n",
    "print( friends.index(\"Oscar\") )\n",
    "print( friends.count(\"Angela\") )\n",
    "friends.sort()\n",
    "print( friends )\n",
    "friends.clear()\n",
    "print( friends )\n"
   ]
  }
 ],
 "metadata": {
  "kernelspec": {
   "display_name": "Python 3",
   "language": "python",
   "name": "python3"
  },
  "language_info": {
   "codemirror_mode": {
    "name": "ipython",
    "version": 3
   },
   "file_extension": ".py",
   "mimetype": "text/x-python",
   "name": "python",
   "nbconvert_exporter": "python",
   "pygments_lexer": "ipython3",
   "version": "3.8.5"
  }
 },
 "nbformat": 4,
 "nbformat_minor": 4
}
