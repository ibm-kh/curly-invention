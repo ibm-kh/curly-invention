{
 "cells": [
  {
   "cell_type": "markdown",
   "metadata": {},
   "source": [
    "# Guessing Game"
   ]
  },
  {
   "cell_type": "code",
   "execution_count": 1,
   "metadata": {},
   "outputs": [
    {
     "name": "stdout",
     "output_type": "stream",
     "text": [
      "Enter a guess: d\n",
      "Enter a guess: ds\n",
      "Enter a guess: giraffe\n",
      "You Win!\n"
     ]
    }
   ],
   "source": [
    "\n",
    "secret_word = \"giraffe\"\n",
    "guess = \"\"\n",
    "guess_count = 0\n",
    "guess_limit = 3\n",
    "out_of_guesses = False\n",
    "\n",
    "while guess != secret_word and not(out_of_guesses):\n",
    "     if guess_count < guess_limit:\n",
    "          guess = input(\"Enter a guess: \")\n",
    "          guess_count += 1\n",
    "     else:\n",
    "          out_of_guesses = True\n",
    "\n",
    "if out_of_guesses:\n",
    "     print(\"You Lose!\")\n",
    "else:\n",
    "     print(\"You Win!\")\n"
   ]
  }
 ],
 "metadata": {
  "kernelspec": {
   "display_name": "Python 3",
   "language": "python",
   "name": "python3"
  },
  "language_info": {
   "codemirror_mode": {
    "name": "ipython",
    "version": 3
   },
   "file_extension": ".py",
   "mimetype": "text/x-python",
   "name": "python",
   "nbconvert_exporter": "python",
   "pygments_lexer": "ipython3",
   "version": "3.8.5"
  }
 },
 "nbformat": 4,
 "nbformat_minor": 4
}
