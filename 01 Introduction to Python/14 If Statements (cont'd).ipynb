{
 "cells": [
  {
   "cell_type": "markdown",
   "metadata": {},
   "source": [
    "# If Statements (Cont)"
   ]
  },
  {
   "cell_type": "code",
   "execution_count": 1,
   "metadata": {},
   "outputs": [
    {
     "name": "stdout",
     "output_type": "stream",
     "text": [
      "You are not a student and not smart\n"
     ]
    }
   ],
   "source": [
    "\n",
    "is_student = False\n",
    "is_smart = False\n",
    "\n",
    "if is_student and is_smart:\n",
    "\tprint(\"You are a student\")\n",
    "elif is_student and not(is_smart):\n",
    "\tprint(\"You are not a smart student\")\n",
    "else:\n",
    "\tprint(\"You are not a student and not smart\")\n",
    "\n",
    "\n",
    "# >, <, >=, <=, !=, ==\n",
    "if 1 > 3:\n",
    "\tprint(\"number omparison was true\")\n",
    "\n",
    "\n",
    "if \"dog\" == \"cat\":\n",
    "   print(\"string omparison was true\")\n"
   ]
  }
 ],
 "metadata": {
  "kernelspec": {
   "display_name": "Python 3",
   "language": "python",
   "name": "python3"
  },
  "language_info": {
   "codemirror_mode": {
    "name": "ipython",
    "version": 3
   },
   "file_extension": ".py",
   "mimetype": "text/x-python",
   "name": "python",
   "nbconvert_exporter": "python",
   "pygments_lexer": "ipython3",
   "version": "3.8.5"
  }
 },
 "nbformat": 4,
 "nbformat_minor": 4
}
