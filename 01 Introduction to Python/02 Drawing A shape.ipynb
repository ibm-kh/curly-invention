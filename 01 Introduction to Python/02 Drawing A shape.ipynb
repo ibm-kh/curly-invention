{
 "cells": [
  {
   "cell_type": "markdown",
   "metadata": {},
   "source": [
    "# Drawing A Shape"
   ]
  },
  {
   "cell_type": "markdown",
   "metadata": {},
   "source": [
    "As we begin our programming journey in Python, we'll start by paying homage to a tradition widely shared among new programmers, which is learning how to print text out onto the screen. As we learn to talk to computers using a programming language like Python, it will help to know how to get them to talk` back to us in the form of output, so let's take a look!\n",
    "\n",
    "We can achieve this by using a print statement. All programming languages, Python included, have some form of a print statement which is essentially an instruction that tells the computer to output some text."
   ]
  },
  {
   "cell_type": "markdown",
   "metadata": {},
   "source": [
    "## A Simple Print Statement"
   ]
  },
  {
   "cell_type": "markdown",
   "metadata": {},
   "source": [
    "For our first program we'll simply instruct the computer to output the phrase Hello World! in Python."
   ]
  },
  {
   "cell_type": "code",
   "execution_count": 1,
   "metadata": {},
   "outputs": [
    {
     "name": "stdout",
     "output_type": "stream",
     "text": [
      "Hello World!\n"
     ]
    }
   ],
   "source": [
    "print(\"Hello World!\")\n"
   ]
  },
  {
   "cell_type": "markdown",
   "metadata": {},
   "source": [
    "As you can see, this program isn't very complicated, in fact it's only one line, or instruction. All computer programs in Python are essentially just made up of a bunch of these little instructions. It's the job of the programmer to take simple instructions like the one above, and chain them together into longer and longer programs, which in turn, the computer will follow.\n",
    "\n",
    "Just like you might write down the instructions for baking your favorite cookies (ie. a recipe), or you might give someone a set of directions to get to your house, you can also give a computer a set of instructions (ie. a program), and it will follow them.\n",
    "\n",
    "If there's one thing you should take away from this lesson it's that programs are just long sets of instructions, it's as simple as that.\n",
    "All the Hello World program above actually does is output the text \"Hello World\" on to the screen (try running it). But as we learn more and more of these instructions in Python, we can get the computer to do some truly amazing things. (To put it in perspective, this website is made up entirely of tiny instructions like the one above!)."
   ]
  },
  {
   "cell_type": "markdown",
   "metadata": {},
   "source": [
    "## More Complex Printing"
   ]
  },
  {
   "cell_type": "markdown",
   "metadata": {},
   "source": [
    "Now that we've written our Hello World program and gotten our feet wet, let's combine a bunch of these print instructions together to draw a shape."
   ]
  },
  {
   "cell_type": "code",
   "execution_count": 2,
   "metadata": {},
   "outputs": [
    {
     "name": "stdout",
     "output_type": "stream",
     "text": [
      "   /|\n",
      "  / |\n",
      " /  |\n",
      "/___|\n"
     ]
    }
   ],
   "source": [
    "print(\"   /|\")\n",
    "print(\"  / |\")\n",
    "print(\" /  |\")\n",
    "print(\"/___|\")\n"
   ]
  },
  {
   "cell_type": "markdown",
   "metadata": {},
   "source": [
    "As you can see the new program adds a few more instructions and even just by looking at the raw code, you can see how a shape might result from it. Run the program and check the output!\n",
    "\n",
    "In actuality what's happening here is the computer is starting with the first line of Python code above and then continuing down from there. This is very important, the computer will always start with the first instruction we give it.\n",
    "\n",
    "Just like you wouldn't start a recipe half way through, the computer won't start the program somewhere in the middle.\n",
    "The order here is important because if the computer doesn't execute these statements in order, then the shape won't look very good. The computer starts with the first line, executes it, thus printing /| onto the screen. Only once it's done with that first instruction will it move onto the second instruction, printing / | out onto a new line.\n",
    "\n",
    "It will continue executing each instruction, one after the other until it gets to the end of the program, at which time it will stop!"
   ]
  },
  {
   "cell_type": "markdown",
   "metadata": {},
   "source": [
    "## Know the code"
   ]
  },
  {
   "cell_type": "markdown",
   "metadata": {},
   "source": [
    "When you're starting out, it's often good to execute the code mentally in your head before you have the computer run it. Step through each instruction manually pretending you're the computer, and verify that it does what you want.\n",
    "\n",
    "As we go forward in the course there will be many instances where we want the computer to give us information. Maybe it's the answer to a question we ask it, or the result of adding two numbers together. These print statements will come in handy in almost every program we write!\n",
    "\n",
    "Especially as a beginner it's important to get comfortable writing code. As it's most likely new to you, the best thing you can do is just take these lessons as a starting out point and branch off on your own for additional practice. Above we drew a triangle, but now maybe try drawing a square, or printing out a poem, or doing anything else you can think of.\n",
    "\n",
    "When it comes to programming, the only way to get better and more comfortable is to practice."
   ]
  },
  {
   "cell_type": "markdown",
   "metadata": {},
   "source": [
    "## Advanced Instructions"
   ]
  },
  {
   "cell_type": "markdown",
   "metadata": {},
   "source": [
    "In this simple program we looked at the instructions for printing something out onto the screen. This is a good starting point, and is where most developers will start their journey in Python. But as we go forward in the course, we'll slowly start to learn about more and more powerful and useful instructions, which in turn, will allow us to write even more powerful and useful programs.\n",
    "\n",
    "There's a lot more to see and learn, so let's head on to the next lesson and keep going!"
   ]
  }
 ],
 "metadata": {
  "kernelspec": {
   "display_name": "Python 3",
   "language": "python",
   "name": "python3"
  },
  "language_info": {
   "codemirror_mode": {
    "name": "ipython",
    "version": 3
   },
   "file_extension": ".py",
   "mimetype": "text/x-python",
   "name": "python",
   "nbconvert_exporter": "python",
   "pygments_lexer": "ipython3",
   "version": "3.8.5"
  }
 },
 "nbformat": 4,
 "nbformat_minor": 4
}
