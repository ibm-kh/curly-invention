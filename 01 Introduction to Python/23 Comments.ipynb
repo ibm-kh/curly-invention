{
 "cells": [
  {
   "cell_type": "markdown",
   "metadata": {},
   "source": [
    "# Comments"
   ]
  },
  {
   "cell_type": "markdown",
   "metadata": {},
   "source": [
    "As you continue to sharpen your Python skills and get more and more comfortable writing programs, you'll eventually become really good at reading code. Just by looking at a line or two you'll be able to tell what the program is doing, and what's going to happen.\n",
    "\n",
    "But, in a lot of cases, merely relying on the code to properly explain or document itself can be ineffective, and often times in the course of writing a program you'll want to mark things down or explain why you're doing things a certain way. This is where comments can be your best friend.\n",
    "\n",
    "A comment is basically a piece of code in the program that Python will ignore. Unlike all of the really cool and interesting commands we've learned so far, comment's actually don't do anything... Well at least not as far as the computer is concerned.\n",
    "\n",
    "Comments are generally used to make small notes to yourself or other developers, explain particularly difficult sections of code, or even temporarily remove parts of the code altogether.\n",
    "You can write a comment like so"
   ]
  },
  {
   "cell_type": "code",
   "execution_count": 1,
   "metadata": {},
   "outputs": [
    {
     "data": {
      "text/plain": [
       "'()\\nmulti\\nline\\ncomment\\n'"
      ]
     },
     "execution_count": 1,
     "metadata": {},
     "output_type": "execute_result"
    }
   ],
   "source": [
    "/'''\n",
    "multi\n",
    "line\n",
    "comment\n",
    "'''\n",
    "\n",
    "# single\n",
    "# line\n",
    "# comment \n"
   ]
  },
  {
   "cell_type": "markdown",
   "metadata": {},
   "source": [
    "As you can see there's two basic types of comments: single line and multi line."
   ]
  },
  {
   "cell_type": "markdown",
   "metadata": {},
   "source": [
    "## Single Line Comments"
   ]
  },
  {
   "cell_type": "markdown",
   "metadata": {},
   "source": [
    "In a single line comment the rules are that anything that comes after the # on the same line is ignored by Python when it executes. A lot of times developers will use these to temporarily remove a line of code by putting the # in front of it.\n",
    "\n",
    "These single line comments are also often used to describe or give more context to a line of code. As a general rule it's always preferred that you write clear, descriptive code so that comments like this aren't necessary, but every once in a while a well placed comment can clear up confusion.\n",
    "\n",
    "Generally a comment like the one described above, is placed either directly above the line of code it's describing, or immediately to the right of it. I always prefer to put these types of comments on top of the line of code because otherwise you'll find that one single line of code ends up being really long, which can get annoying.\n",
    "\n",
    "Single line comments are also commonly used as TODO markers. If you see a comment that says TODO, that generally means that this is a part of the code which has yet to be implemented, and therefore the developer who’s working on the program has TO DO it."
   ]
  },
  {
   "cell_type": "markdown",
   "metadata": {},
   "source": [
    "## Multi line comments"
   ]
  },
  {
   "cell_type": "markdown",
   "metadata": {},
   "source": [
    "Multi line comments have a starting and an ending tag, as you can see in the code above. These are generally more convenient for commenting out large blocks of code.\n",
    "\n",
    "A lot of times you’ll see developers put different kinds of documentation in comments like this. In fact, in many programs, comments are used to help generate documentation.\n",
    "\n",
    "Sometimes you’ll encounter code files with more comments than actual executable code, and it’s because all of the official documentation for the codebase is generated in part from the comments in each file.\n",
    "\n",
    "It’s important to distinguish between comments meant for documentation purposes, and comments meant to help explain messy code. Generally using a comment to cover up for bad code is a no no, but using comments in combination with some sort of documentation generating system is good!"
   ]
  },
  {
   "cell_type": "markdown",
   "metadata": {},
   "source": [
    "## Using Comments Wisely"
   ]
  },
  {
   "cell_type": "markdown",
   "metadata": {},
   "source": [
    "There are no hard set rules for when you should and shouldn’t use comments when writing programs. In a lot of cases it’s just personal preference.\n",
    "\n",
    "As I mentioned above however it’s usually a bad idea to rely on comments to make your code understandable. If you’re looking at a line of code, and can’t tell what it’s doing without reading a corresponding comment, then, except for in rare cases, that line of code can probably be re-written.\n",
    "\n",
    "Personally, I really like using comments to comment out parts of my code when I’m writing it. As you write more and more complex programs, a lot of times you’ll run into problems where the code is crashing at certain points. In cases like this, I will generally comment out, that is to say, surround with comments, the code I think is causing the problem, and if the code starts working again then I’ve found the culprit."
   ]
  },
  {
   "cell_type": "markdown",
   "metadata": {},
   "source": [
    "## Wrapping Up"
   ]
  },
  {
   "cell_type": "markdown",
   "metadata": {},
   "source": [
    "At the end of the day comments are a great tool which can help with documenting code and giving you an easy way to quickly remove code without actually deleting it.\n",
    "\n",
    "As we go forward in the course I would encourage you to start using comments to enhance your code and look for ways they can make your life easier as a developer!"
   ]
  }
 ],
 "metadata": {
  "kernelspec": {
   "display_name": "Python 3",
   "language": "python",
   "name": "python3"
  },
  "language_info": {
   "codemirror_mode": {
    "name": "ipython",
    "version": 3
   },
   "file_extension": ".py",
   "mimetype": "text/x-python",
   "name": "python",
   "nbconvert_exporter": "python",
   "pygments_lexer": "ipython3",
   "version": "3.8.5"
  }
 },
 "nbformat": 4,
 "nbformat_minor": 4
}
