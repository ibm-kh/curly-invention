{
 "cells": [
  {
   "cell_type": "markdown",
   "metadata": {},
   "source": [
    "# Better Calculator"
   ]
  },
  {
   "cell_type": "code",
   "execution_count": 2,
   "metadata": {},
   "outputs": [
    {
     "name": "stdout",
     "output_type": "stream",
     "text": [
      "num1: 78\n",
      "Operator: /\n",
      "num1: 5\n",
      "15.6\n"
     ]
    }
   ],
   "source": [
    "\n",
    "num1 = int(input(\"num1: \"))\n",
    "op = input(\"Operator: \")\n",
    "num2 = int(input(\"num1: \"))\n",
    "\n",
    "if op == \"+\":\n",
    "     print(num1 + num2)\n",
    "elif op == \"-\":\n",
    "     print(num1 - num2)\n",
    "elif op == \"/\":\n",
    "     print(num1 / num2)\n",
    "elif op == \"*\":\n",
    "     print(num1 * num2)\n",
    "else:\n",
    "     print(\"Invalid Operator\")\n"
   ]
  }
 ],
 "metadata": {
  "kernelspec": {
   "display_name": "Python 3",
   "language": "python",
   "name": "python3"
  },
  "language_info": {
   "codemirror_mode": {
    "name": "ipython",
    "version": 3
   },
   "file_extension": ".py",
   "mimetype": "text/x-python",
   "name": "python",
   "nbconvert_exporter": "python",
   "pygments_lexer": "ipython3",
   "version": "3.8.5"
  }
 },
 "nbformat": 4,
 "nbformat_minor": 4
}
