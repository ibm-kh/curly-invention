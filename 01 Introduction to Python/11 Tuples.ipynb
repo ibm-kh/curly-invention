{
 "cells": [
  {
   "cell_type": "markdown",
   "metadata": {},
   "source": [
    "# Tuples"
   ]
  },
  {
   "cell_type": "code",
   "execution_count": 1,
   "metadata": {},
   "outputs": [
    {
     "name": "stdout",
     "output_type": "stream",
     "text": [
      "4\n",
      "8\n",
      "42.0\n",
      "('fifteen', 16, 23, 42.0)\n",
      "('fifteen', 16)\n",
      "6\n"
     ]
    }
   ],
   "source": [
    "\n",
    "lucky_numbers = (4, 8, \"fifteen\", 16, 23, 42.0)\n",
    "#      indexes  0  1       2      3   4   5\n",
    "\n",
    "# lucky_numbers[0] = 90  # tuples are immutable\n",
    "print(lucky_numbers[0])\n",
    "print(lucky_numbers[1])\n",
    "print(lucky_numbers[-1])\n",
    "print(lucky_numbers[2:])\n",
    "print(lucky_numbers[2:4])\n",
    "print(len(lucky_numbers))\n"
   ]
  }
 ],
 "metadata": {
  "kernelspec": {
   "display_name": "Python 3",
   "language": "python",
   "name": "python3"
  },
  "language_info": {
   "codemirror_mode": {
    "name": "ipython",
    "version": 3
   },
   "file_extension": ".py",
   "mimetype": "text/x-python",
   "name": "python",
   "nbconvert_exporter": "python",
   "pygments_lexer": "ipython3",
   "version": "3.8.5"
  }
 },
 "nbformat": 4,
 "nbformat_minor": 4
}
