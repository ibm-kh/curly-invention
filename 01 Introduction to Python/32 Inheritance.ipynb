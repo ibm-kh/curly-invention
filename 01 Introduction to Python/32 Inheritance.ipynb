{
 "cells": [
  {
   "cell_type": "markdown",
   "metadata": {},
   "source": [
    "# Inheritance"
   ]
  },
  {
   "cell_type": "code",
   "execution_count": 1,
   "metadata": {},
   "outputs": [
    {
     "name": "stdout",
     "output_type": "stream",
     "text": [
      "The chef makes chicken\n",
      "The chef makes chicken\n"
     ]
    }
   ],
   "source": [
    "\n",
    "class Chef:\n",
    "   def make_chicken(self):\n",
    "       print(\"The chef makes chicken\")\n",
    "\n",
    "   def make_salad(self):\n",
    "       print(\"The chef makes salad\")\n",
    "\n",
    "   def make_special_dish(self):\n",
    "       print(\"The chef makes bbq ribs\")\n",
    "\n",
    "class ItalianChef(Chef):\n",
    "   def make_pasta(self):\n",
    "       print(\"The chef makes pasta\")\n",
    "\n",
    "   def make_special_dish(self):\n",
    "       print(\"The chef makes chicken parm\")\n",
    "\n",
    "\n",
    "myChef = Chef()\n",
    "myChef.make_chicken()\n",
    "\n",
    "myItalianChef = ItalianChef()\n",
    "myItalianChef.make_chicken()\n"
   ]
  }
 ],
 "metadata": {
  "kernelspec": {
   "display_name": "Python 3",
   "language": "python",
   "name": "python3"
  },
  "language_info": {
   "codemirror_mode": {
    "name": "ipython",
    "version": 3
   },
   "file_extension": ".py",
   "mimetype": "text/x-python",
   "name": "python",
   "nbconvert_exporter": "python",
   "pygments_lexer": "ipython3",
   "version": "3.8.5"
  }
 },
 "nbformat": 4,
 "nbformat_minor": 4
}
