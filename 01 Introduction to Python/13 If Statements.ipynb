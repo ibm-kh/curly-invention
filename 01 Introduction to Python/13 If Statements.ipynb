{
 "cells": [
  {
   "cell_type": "markdown",
   "metadata": {},
   "source": [
    "# If Statements"
   ]
  },
  {
   "cell_type": "markdown",
   "metadata": {},
   "source": [
    "Up to this point in the course we've written some pretty cool programs! But in this lesson I want to introduce you to a concept that will allow our programs to be even more powerful.\n",
    "\n",
    "If statements are a special structure in Python where we can actually allow our programs to make decisions.\n",
    "\n",
    "By using an if statement, I could execute certain code when certain conditions are true, and I could execute other code when other conditions are true."
   ]
  },
  {
   "cell_type": "markdown",
   "metadata": {},
   "source": [
    "## What are they?"
   ]
  },
  {
   "cell_type": "markdown",
   "metadata": {},
   "source": [
    "Basically, if statements allow our programs to respond to the input that they are given. Depending on the state of the data in the program, Python will be able to respond to it. So when certain data is certain values we can do certain things, and when other data is other values we can do other things.\n",
    "\n",
    "With if statements, our programs are able to become a lot smarter and we're able to do more things with them (which is always a good thing)!\n",
    "Now, one of the things you might not realize is that you're already an expert at dealing with if statements. Maybe not so much in Python, but in everyday life.\n",
    "\n",
    "As you go throughout your day, you're confronted with countless if statements, I've included a few common one's below:"
   ]
  },
  {
   "cell_type": "raw",
   "metadata": {},
   "source": [
    "I wake up\n",
    "If I'm hungry \n",
    "  I eat breakfast \n",
    "\n",
    "I leave my house\n",
    "if it's cloudy \n",
    "  I bring an umbrella \n",
    "otherwise \n",
    "  I bring sunglasses \n",
    "\n",
    "Im at a restaurant \n",
    "if I want meat \n",
    "  I order a steak \n",
    "otherwise if I want pasta \n",
    "  I order spaghetti & meatballs \n",
    "otherwise \n",
    "  I order a salad. "
   ]
  },
  {
   "cell_type": "markdown",
   "metadata": {},
   "source": [
    "Above I've written out three if statements that you might encounter in your everyday life. While these aren't valid Python code, they are very similar to what we'll be looking at when we eventually do get to some code."
   ]
  },
  {
   "cell_type": "markdown",
   "metadata": {},
   "source": [
    "# If"
   ]
  },
  {
   "cell_type": "markdown",
   "metadata": {},
   "source": [
    "All if statements are made up of two parts, a boolean expression and an action. Remember that boolean values are just true or false. Boolean expressions therefore are expressions which can be evaluated to either a true or a false value.\n",
    "\n",
    "Albert Einstein was a woman\n",
    "Is a false Boolean expression\n",
    "Abraham Lincoln was president of the United States\n",
    "Is a true Boolean expression\n",
    "In an If statement a boolean expression acts as a guard. Essentially its guarding a particular piece of code.\n",
    "\n",
    "So IF the Boolean expression is true, THEN we want to execute the code contained in the statement (the action). Whereas IF the boolean expression is false, THEN we want to skip over the code contained in the expression. The action can be any segment of valid code, and as long as the boolean expression concludes to true, then it will be executed.\n",
    "\n",
    "So taking for example the first if statement in the previous section:"
   ]
  },
  {
   "cell_type": "raw",
   "metadata": {},
   "source": [
    "I wake up\n",
    "If I'm hungry \n",
    "  I eat breakfast \n"
   ]
  },
  {
   "cell_type": "markdown",
   "metadata": {},
   "source": [
    "Here the boolean expression If i'm hungry acts as the boolean guard. Only if this is true will you eat breakfast (i.e. the action)."
   ]
  },
  {
   "cell_type": "markdown",
   "metadata": {},
   "source": [
    "## Why are They Useful?"
   ]
  },
  {
   "cell_type": "markdown",
   "metadata": {},
   "source": [
    "If statements are useful because they allow a programmer to build a certain level of intelligence and decision making into a program. When writing programs, there’s a bunch of situations where it can be useful to execute certain code when certain conditions are met, and skip over certain code when conditions aren’t met.\n",
    "\n",
    "As our programs get more complex, we'll be dealing with more and more data, and we'll want to use that data to inform the program on what it should do in certain situations.\n",
    "If statements are super powerful and common in most programs. This website even, is build with hundreds of if statements (I should know I painstakingly wrote them all).\n",
    "\n",
    "One of the important learning curves that all new developers have to overcome is to begin thinking in terms of if statements. But don't worry, if this isn't coming super naturally to you right now you'll get the hang of it after some practice."
   ]
  },
  {
   "cell_type": "markdown",
   "metadata": {},
   "source": [
    "## Else"
   ]
  },
  {
   "cell_type": "markdown",
   "metadata": {},
   "source": [
    "Now that we’ve learned about IF statements let’s talk about another piece to the puzzle which are called Else statements. An Else statement basically specifies what to do when the if statement returns false.\n",
    "\n",
    "So IF a condition is false -> do something else. An else can only exist in combination with an if statement. Check out some real world Else statements below"
   ]
  },
  {
   "cell_type": "raw",
   "metadata": {},
   "source": [
    "IF the road is open\n",
    "  drive down it\n",
    "ELSE\n",
    "  turn right\n",
    "\n",
    "IF they have vanilla icecream\n",
    "  buy me some\n",
    "ELSE\n",
    "  buy me chocolate icecream\n",
    "\n",
    "IF it is 3 oclock\n",
    "  call me\n",
    "ELSE\n",
    "  Text me"
   ]
  },
  {
   "cell_type": "markdown",
   "metadata": {},
   "source": [
    "Else statements have the same basic concept as if statements, they just allow you to add more logic to the program.\n",
    "\n",
    "Also notice that an else statement doesn’t have a boolean expression guarding it. That’s because the code inside an else statement is always executed when the boolean expression in the if statement returns false."
   ]
  },
  {
   "cell_type": "markdown",
   "metadata": {},
   "source": [
    "## If Else"
   ]
  },
  {
   "cell_type": "markdown",
   "metadata": {},
   "source": [
    "Finally, we can add even more logic into these by utilizing If Else statements. An if else statement is very similar to an if statement, much like an if statement it will check a boolean expression. If that boolean expression is true it will allow some code to be executed.\n",
    "\n",
    "If else statement's boolean expressions are only evaluated however after all if statements or if else statements before them have evaluated to false.\n",
    "\n",
    "In the beginning of this lesson we saw an example of an if else in action:"
   ]
  },
  {
   "cell_type": "raw",
   "metadata": {},
   "source": [
    "Im at a restaurant \n",
    "if I want meat \n",
    "  I order a steak \n",
    "otherwise if I want pasta \n",
    "  I order spaghetti & meatballs \n",
    "otherwise \n",
    "  I order a salad."
   ]
  },
  {
   "cell_type": "markdown",
   "metadata": {},
   "source": [
    "Notice the if else statement sand-witched in between the initial if statement and the final else statement. Much like the if statement it has a boolean guard, if I want pasta, but this is only checked if the original if statement is false."
   ]
  },
  {
   "cell_type": "markdown",
   "metadata": {},
   "source": [
    "## Python If Statements"
   ]
  },
  {
   "cell_type": "markdown",
   "metadata": {},
   "source": [
    "So now that we have a grasp of the basic concepts, lets look at some code! Here's an example of an if statement in Python. Take a look at the video above for more about how all of this comes together!"
   ]
  },
  {
   "cell_type": "code",
   "execution_count": 2,
   "metadata": {},
   "outputs": [
    {
     "name": "stdout",
     "output_type": "stream",
     "text": [
      "You are not a student and not smart\n"
     ]
    }
   ],
   "source": [
    "is_student = False\n",
    "is_smart = False\n",
    "\n",
    "if is_student and is_smart:\n",
    "  print(\"You are a student\")\n",
    "elif is_student and not(is_smart):\n",
    "  print(\"You are not a smart student\")\n",
    "else:\n",
    "  print(\"You are not a student and not smart\")\n",
    "\n",
    "\n",
    "# >, <, >=, <=, !=, ==\n",
    "if 1 > 3:\n",
    "  print(\"number omparison was true\")\n",
    "\n",
    "\n",
    "if \"dog\" == \"cat\":\n",
    "  print(\"string omparison was true\")\n"
   ]
  }
 ],
 "metadata": {
  "kernelspec": {
   "display_name": "Python 3",
   "language": "python",
   "name": "python3"
  },
  "language_info": {
   "codemirror_mode": {
    "name": "ipython",
    "version": 3
   },
   "file_extension": ".py",
   "mimetype": "text/x-python",
   "name": "python",
   "nbconvert_exporter": "python",
   "pygments_lexer": "ipython3",
   "version": "3.8.5"
  }
 },
 "nbformat": 4,
 "nbformat_minor": 4
}
