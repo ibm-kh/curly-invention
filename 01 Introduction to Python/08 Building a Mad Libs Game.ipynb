{
 "cells": [
  {
   "cell_type": "markdown",
   "metadata": {},
   "source": [
    "# Building A Mad Libs Game"
   ]
  },
  {
   "cell_type": "code",
   "execution_count": 6,
   "metadata": {},
   "outputs": [
    {
     "name": "stdout",
     "output_type": "stream",
     "text": [
      "Enter a color: red\n",
      "Enter a plural noun: Everton fans\n",
      "Enter a celebrity: Liverpool\n",
      "\n",
      "Roses are red\n",
      "Everton fans are blue\n",
      "I love Liverpool\n"
     ]
    }
   ],
   "source": [
    "\n",
    "color = input(\"Enter a color: \")\n",
    "pluralNoun = input(\"Enter a plural noun: \")\n",
    "celebrity = input(\"Enter a celebrity: \")\n",
    "\n",
    "print(\"\\nRoses are\", color)\n",
    "print(pluralNoun + \" are blue\")\n",
    "print(\"I love\", celebrity)\n"
   ]
  }
 ],
 "metadata": {
  "kernelspec": {
   "display_name": "Python 3",
   "language": "python",
   "name": "python3"
  },
  "language_info": {
   "codemirror_mode": {
    "name": "ipython",
    "version": 3
   },
   "file_extension": ".py",
   "mimetype": "text/x-python",
   "name": "python",
   "nbconvert_exporter": "python",
   "pygments_lexer": "ipython3",
   "version": "3.8.5"
  }
 },
 "nbformat": 4,
 "nbformat_minor": 4
}
