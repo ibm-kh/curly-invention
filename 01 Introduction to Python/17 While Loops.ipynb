{
 "cells": [
  {
   "cell_type": "markdown",
   "metadata": {},
   "source": [
    "# While Loops"
   ]
  },
  {
   "cell_type": "markdown",
   "metadata": {},
   "source": [
    "There's an on-going gag on the popular show \"The Simpsons\", where Bart Simpson is forced to write lines on the chalkboard over and over agian to teach him a lesson. One of my favorites features Bart writing \"I will not show off\" on the blackboard hundreds of times."
   ]
  },
  {
   "cell_type": "markdown",
   "metadata": {},
   "source": [
    "I've always liked this gag, and I'm excited to say that I can use it to help explain a programming concept.\n",
    "\n",
    "In the episode, when Bart wrote all those lines, he was literally writing the same thing 500 times for the whole afternoon. Now, imagine if instead of doing it himself, he asked a computer to do this same thing. After all computers can print out information to the screen a lot faster than humans can write it.\n",
    "\n",
    "So lets say we wanted to ask a computer to write “I will not show off” 500 times, how might we do that?\n",
    "\n",
    "Well you might say that we need a print statement, and you’re right. If we’re going to ask the computer to print to the screen, our best bet is a print statement. But remember we don’t just want it to print once, we want it to print 500 times. So maybe let’s write a program that looks like this psudo-code (this is not real Python code)"
   ]
  },
  {
   "cell_type": "raw",
   "metadata": {},
   "source": [
    "  print \"I will behave\"\n",
    "  print \"I will not show off\"\n",
    "  print \"I will not show off\"\n",
    "  ... x500\n",
    "  print \"I will not show off\""
   ]
  },
  {
   "cell_type": "markdown",
   "metadata": {},
   "source": [
    "By writing out 500 print statements, we can accomplish our task of printing out 500 times. But to do it we need to write 500 individual lines of code. Imagine if we wanted to print something one thousand times, or even one million times, it seems unreasonable that we would write one million lines of the same thing right?\n",
    "\n",
    "Early programmers recognized this problem and created something called a loop.\n",
    "\n",
    "A loop is a structure that’s built into all programming languages which tells the computer to execute a certain block of code a certain number of times, or until a certain condition is met. Loops are useful for all types of tasks and like If statements, are used in almost every program you’ll find.\n",
    "\n",
    "In the majority of programming languages there are two types of loops, a While Loop and a For Loop.\n",
    "In this lesson we’re going to take a look at while loops, learn how and when to use them, and how they can be used to create as efficient a program as possible."
   ]
  },
  {
   "cell_type": "markdown",
   "metadata": {},
   "source": [
    "## How do they work?"
   ]
  },
  {
   "cell_type": "markdown",
   "metadata": {},
   "source": [
    "While loops are the most basic type of loop available. A while loop, a lot like an If statement, is comprised of a Boolean expression and an action.\n",
    "\n",
    "Basically a while loop says:"
   ]
  },
  {
   "cell_type": "raw",
   "metadata": {},
   "source": [
    "While something is true:\n",
    "    perform some action"
   ]
  },
  {
   "cell_type": "markdown",
   "metadata": {},
   "source": [
    "Take the case of writing lines. A corresponding while loop might say something like this"
   ]
  },
  {
   "cell_type": "raw",
   "metadata": {},
   "source": [
    "While you haven’t written 500 lines:\n",
    "    write “I will not show off\""
   ]
  },
  {
   "cell_type": "markdown",
   "metadata": {},
   "source": [
    "You can see here that our boolean expression “You haven’t written 500 lines”, first gets tested, then, if it’s true, we execute the code in the loop. But the important thing to note is that once the code in the loop gets executed, the computer then checks the boolean expression again, to see if anything has changed.\n",
    "\n",
    "Following the execution of this loop we see that it will execute 500 times, and on the 501th iteration of the loop, it will terminate (by terminate I mean it will move onto the next line of code outside the loop).\n",
    "\n"
   ]
  },
  {
   "cell_type": "markdown",
   "metadata": {},
   "source": [
    "## While loops in Python"
   ]
  },
  {
   "cell_type": "markdown",
   "metadata": {},
   "source": [
    "That’s essentially how while loops work, pretty simple, but extremely powerful. Take a look at a loop in Python below to get a feel for how a while loop is put together."
   ]
  },
  {
   "cell_type": "code",
   "execution_count": 1,
   "metadata": {},
   "outputs": [
    {
     "name": "stdout",
     "output_type": "stream",
     "text": [
      "1\n",
      "2\n",
      "3\n",
      "4\n",
      "5\n"
     ]
    }
   ],
   "source": [
    "index = 1\n",
    "while index <= 5:\n",
    "  print(index)\n",
    "  index += 1\n"
   ]
  },
  {
   "cell_type": "markdown",
   "metadata": {},
   "source": [
    "As you can see above, on each iteration of the loop a variable is incremented to keep track of how many times we’ve printed to the screen.\n",
    "\n",
    "The boolean expression, or the loop guard is exactly the same as we would write in an if statement, it's just that this boolean expression is evaluated before every iteration of the loop.\n",
    "\n",
    "It basically determines whether or not we can keep looping again."
   ]
  },
  {
   "cell_type": "markdown",
   "metadata": {},
   "source": [
    "## Do While Loops"
   ]
  },
  {
   "cell_type": "markdown",
   "metadata": {},
   "source": [
    "Do While loops are basically while loops but in reverse. In a While loop you check the boolean condition first and then, if it’s true you execute the code in the loop body. But in a Do While Loop you first execute the code in the loop body and then check the boolean expression. Check out an example below"
   ]
  },
  {
   "cell_type": "code",
   "execution_count": 2,
   "metadata": {},
   "outputs": [
    {
     "name": "stdout",
     "output_type": "stream",
     "text": [
      "1\n",
      "2\n",
      "3\n",
      "4\n",
      "5\n"
     ]
    }
   ],
   "source": [
    "index = 1\n",
    "while True:\n",
    "  print(index)\n",
    "  index += 1\n",
    "  if index > 5:\n",
    "    break;\n"
   ]
  },
  {
   "cell_type": "markdown",
   "metadata": {},
   "source": [
    "Do While Loops are not used very often, but they can be extremely useful when trying to solve specific problems."
   ]
  }
 ],
 "metadata": {
  "kernelspec": {
   "display_name": "Python 3",
   "language": "python",
   "name": "python3"
  },
  "language_info": {
   "codemirror_mode": {
    "name": "ipython",
    "version": 3
   },
   "file_extension": ".py",
   "mimetype": "text/x-python",
   "name": "python",
   "nbconvert_exporter": "python",
   "pygments_lexer": "ipython3",
   "version": "3.8.5"
  }
 },
 "nbformat": 4,
 "nbformat_minor": 4
}
